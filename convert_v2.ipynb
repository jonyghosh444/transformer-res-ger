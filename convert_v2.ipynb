{
  "cells": [
    {
      "cell_type": "markdown",
      "metadata": {
        "id": "view-in-github",
        "colab_type": "text"
      },
      "source": [
        "<a href=\"https://colab.research.google.com/github/jonyghosh444/transformer-res-ger/blob/master/convert_v2.ipynb\" target=\"_parent\"><img src=\"https://colab.research.google.com/assets/colab-badge.svg\" alt=\"Open In Colab\"/></a>"
      ]
    },
    {
      "cell_type": "code",
      "execution_count": null,
      "metadata": {
        "colab": {
          "base_uri": "https://localhost:8080/"
        },
        "id": "LG_oidDNKSB8",
        "outputId": "9380ed66-d38a-419a-abe4-777c45b82aeb"
      },
      "outputs": [
        {
          "output_type": "stream",
          "name": "stdout",
          "text": [
            "Mounted at /content/drive\n"
          ]
        }
      ],
      "source": [
        "from google.colab import drive\n",
        "drive.mount('/content/drive')"
      ]
    },
    {
      "cell_type": "markdown",
      "metadata": {
        "id": "Le3Y6v1wKV_L"
      },
      "source": [
        "For CIFAR-10 and CIFAR-100"
      ]
    },
    {
      "cell_type": "code",
      "execution_count": null,
      "metadata": {
        "id": "4106vHzmKXgU"
      },
      "outputs": [],
      "source": [
        "import torch\n",
        "import torchvision.models as models\n",
        "import torchvision.transforms as transforms\n",
        "from torchvision.datasets import CIFAR10, CIFAR100\n",
        "from torch.utils.data import DataLoader\n",
        "from tqdm import tqdm\n",
        "import numpy as np\n",
        "\n",
        "def extract_resnet_features_cifar(dataset_class, root, out_file, num_classes):\n",
        "    model = models.resnet18(pretrained=True)\n",
        "    model.fc = torch.nn.Identity()\n",
        "    model.eval()\n",
        "\n",
        "    transform = transforms.Compose([\n",
        "        transforms.Resize((224, 224)),\n",
        "        transforms.ToTensor(),\n",
        "    ])\n",
        "\n",
        "    dataset_train = dataset_class(root=root, train=True, transform=transform, download=True)\n",
        "    dataset_test = dataset_class(root=root, train=False, transform=transform, download=True)\n",
        "\n",
        "    train_loader = DataLoader(dataset_train, batch_size=128, shuffle=False)\n",
        "    test_loader = DataLoader(dataset_test, batch_size=128, shuffle=False)\n",
        "\n",
        "    def encode(loader):\n",
        "        features, labels = [], []\n",
        "        with torch.no_grad():\n",
        "            for x, y in tqdm(loader, desc=\"Extracting features\"):\n",
        "                feats = model(x).cpu().numpy()\n",
        "                features.append(feats)\n",
        "                labels.append(y.numpy())\n",
        "        return np.concatenate(features), np.concatenate(labels)\n",
        "\n",
        "    feats_train, labels_train = encode(train_loader)\n",
        "    feats_test, labels_test = encode(test_loader)\n",
        "\n",
        "    np.savez(out_file,\n",
        "             traindata=feats_train,\n",
        "             trainlabel=labels_train,\n",
        "             testdata=feats_test,\n",
        "             label_test=labels_test)\n",
        "\n",
        "    print(f\"Saved encoded dataset to {out_file}\")"
      ]
    },
    {
      "cell_type": "code",
      "execution_count": null,
      "metadata": {
        "colab": {
          "base_uri": "https://localhost:8080/"
        },
        "id": "q2fUjL7qKfvK",
        "outputId": "1bb9087e-607c-45a5-a48b-e6dff6f06c72"
      },
      "outputs": [
        {
          "output_type": "stream",
          "name": "stdout",
          "text": [
            "Saved encoded dataset to /content/drive/MyDrive/transformer-r&d/dataset/data/CIFAR10_resnet18_224.npz\n"
          ]
        },
        {
          "output_type": "stream",
          "name": "stderr",
          "text": [
            "100%|██████████| 169M/169M [00:01<00:00, 101MB/s]\n"
          ]
        },
        {
          "output_type": "stream",
          "name": "stdout",
          "text": [
            "Saved encoded dataset to /content/drive/MyDrive/transformer-r&d/dataset/data/CIFAR100_resnet18_224.npz\n"
          ]
        }
      ],
      "source": [
        "# For CIFAR-10\n",
        "extract_resnet_features_cifar(CIFAR10, \"/content/drive/MyDrive/transformer-r&d/dataset/data/cifar10\", \"/content/drive/MyDrive/transformer-r&d/dataset/data/CIFAR10_resnet18_224.npz\", 10)\n",
        "\n",
        "# For CIFAR-100\n",
        "extract_resnet_features_cifar(CIFAR100, \"/content/drive/MyDrive/transformer-r&d/dataset/data/cifar100\", \"/content/drive/MyDrive/transformer-r&d/dataset/data/CIFAR100_resnet18_224.npz\", 100)"
      ]
    },
    {
      "cell_type": "code",
      "execution_count": null,
      "metadata": {
        "id": "c7sWHj4wLfBf"
      },
      "outputs": [],
      "source": []
    },
    {
      "cell_type": "code",
      "execution_count": null,
      "metadata": {
        "id": "aS-1-cfhLP3M"
      },
      "outputs": [],
      "source": []
    }
  ],
  "metadata": {
    "accelerator": "TPU",
    "colab": {
      "gpuType": "V28",
      "provenance": [],
      "include_colab_link": true
    },
    "kernelspec": {
      "display_name": "Python 3",
      "name": "python3"
    },
    "language_info": {
      "name": "python"
    }
  },
  "nbformat": 4,
  "nbformat_minor": 0
}